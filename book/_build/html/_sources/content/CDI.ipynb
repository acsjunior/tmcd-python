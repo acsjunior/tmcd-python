{
 "cells": [
  {
   "attachments": {},
   "cell_type": "markdown",
   "metadata": {},
   "source": [
    "# Cálculo Diferencial e Integral\n",
    "\n",
    "## Funções, limites e continuidade\n",
    "\n",
    "Estrutura de função em Python."
   ]
  },
  {
   "cell_type": "code",
   "execution_count": null,
   "metadata": {},
   "outputs": [],
   "source": [
    "def minha_funcao(x):\n",
    "  y = 'algum processamento com x'\n",
    "  return y"
   ]
  },
  {
   "attachments": {},
   "cell_type": "markdown",
   "metadata": {},
   "source": [
    "Para materializar esta ideia definimos a função $y = x^2$, ou seja, para cada entrada de $x$ retornamos $y$ que é o quadrado da entrada. Em Python temos a seguinte função"
   ]
  },
  {
   "cell_type": "code",
   "execution_count": null,
   "metadata": {},
   "outputs": [],
   "source": [
    "def minha_funcao(x):\n",
    "  y = x**2\n",
    "  return y"
   ]
  },
  {
   "attachments": {},
   "cell_type": "markdown",
   "metadata": {},
   "source": [
    "Usando nossa função Python temos"
   ]
  },
  {
   "cell_type": "code",
   "execution_count": null,
   "metadata": {},
   "outputs": [],
   "source": [
    "minha_funcao(x=2)"
   ]
  },
  {
   "attachments": {},
   "cell_type": "markdown",
   "metadata": {},
   "source": [
    "Para definir um vetor de números em Python usamos a função <code>array()</code> da biblioteca Numpy. Veja o seguinte exemplo,"
   ]
  },
  {
   "cell_type": "code",
   "execution_count": null,
   "metadata": {},
   "outputs": [],
   "source": [
    "import numpy as np\n",
    "\n",
    "x_vec = np.array([-3, -2, -1, 0, 1, 2, 3])\n",
    "minha_funcao(x=x_vec)"
   ]
  },
  {
   "attachments": {},
   "cell_type": "markdown",
   "metadata": {},
   "source": [
    "Neste ponto é interessante falar sobre alguns tipos de variáveis em Python. Em termos de números temos basicamente os inteiros (int) e os de ponto flutuante (float). Para verificar o tipo de uma variável em usamos a função type(). Por exemplo,"
   ]
  },
  {
   "cell_type": "code",
   "execution_count": null,
   "metadata": {},
   "outputs": [],
   "source": [
    "x = 1811.0\n",
    "type(x)"
   ]
  },
  {
   "cell_type": "code",
   "execution_count": null,
   "metadata": {},
   "outputs": [],
   "source": [
    "x = 1811\n",
    "type(x)"
   ]
  },
  {
   "attachments": {},
   "cell_type": "markdown",
   "metadata": {},
   "source": [
    "Outra questão importante é o tipo do objeto de saída."
   ]
  },
  {
   "cell_type": "code",
   "execution_count": null,
   "metadata": {},
   "outputs": [],
   "source": [
    "## Entrada inteiro\n",
    "y = minha_funcao(x=2)\n",
    "type(y)"
   ]
  },
  {
   "cell_type": "code",
   "execution_count": null,
   "metadata": {},
   "outputs": [],
   "source": [
    "## Entrada float\n",
    "y <- minha_funcao(x=2.0)\n",
    "type(y)"
   ]
  },
  {
   "attachments": {},
   "cell_type": "markdown",
   "metadata": {},
   "source": [
    "Quando colocados juntos em um vetor valores integer e float, o integer será convertido para float e o valor gerado será do tipo float."
   ]
  },
  {
   "cell_type": "code",
   "execution_count": null,
   "metadata": {},
   "outputs": [],
   "source": [
    "x_vec = np.array([2,  2.0])\n",
    "x_vec.dtype"
   ]
  },
  {
   "cell_type": "code",
   "execution_count": null,
   "metadata": {},
   "outputs": [],
   "source": [
    "type(x_vec)"
   ]
  },
  {
   "attachments": {},
   "cell_type": "markdown",
   "metadata": {},
   "source": [
    "Em Python a função <code>plot()</code> da biblioteca Matplotlib é uma das formas mais simples de desenhar o gráfico de uma função. O código abaixo ilustra como desenhar o gráfico da função $y = x^2$ avaliada nos inteiros entre $-5$ e $5$."
   ]
  },
  {
   "cell_type": "code",
   "execution_count": null,
   "metadata": {},
   "outputs": [],
   "source": [
    "import numpy as np\n",
    "import matplotlib.pyplot as plt\n",
    "\n",
    "## Criando a função\n",
    "def minha_funcao(x):\n",
    "  y = x**2\n",
    "  return y\n",
    "\n",
    "## Valores que a função será avaliada\n",
    "x_vec = np.array([-5, -4, -3, -2, -1, 0, 1, 2, 3, 4, 5])\n",
    "\n",
    "## Avaliando a função em cada ponto\n",
    "y = minha_funcao(x=x_vec)\n",
    "\n",
    "## Gráfico da função\n",
    "fig, ax = plt.subplots()\n",
    "ax.plot(x_vec, y, 'o')\n",
    "ax.set(xlabel='$x$', ylabel='$f(x)$')\n",
    "plt.show()"
   ]
  },
  {
   "attachments": {},
   "cell_type": "markdown",
   "metadata": {},
   "source": [
    "É comum desenhar o gráfico da função unindo os pontos para dar a noção de continuidade (conceito a ser explicado adiante)."
   ]
  },
  {
   "cell_type": "code",
   "execution_count": null,
   "metadata": {},
   "outputs": [],
   "source": [
    "fig, ax = plt.subplots()\n",
    "ax.plot(x_vec, y)\n",
    "ax.set(xlabel='$x$', ylabel='$f(x)$')\n",
    "plt.show()"
   ]
  },
  {
   "attachments": {},
   "cell_type": "markdown",
   "metadata": {},
   "source": [
    "Considere a seguinte função parametrizada $y = (x - \\theta)^2$ cuja versão em Python é dada abaixo."
   ]
  },
  {
   "cell_type": "code",
   "execution_count": null,
   "metadata": {},
   "outputs": [],
   "source": [
    "def fx(x, theta):\n",
    "  out = (x - theta)**2\n",
    "  return out"
   ]
  },
  {
   "attachments": {},
   "cell_type": "markdown",
   "metadata": {},
   "source": [
    "A Figura abaixo mostra o gráfico da função $y = (x - \\theta)^2$ avaliada nos pontos $x = (-5, -4, -3, -2, -1, 0, 1, 2, 3, 4, 5)$ e $\\theta = (-2, 0, 2)$."
   ]
  },
  {
   "cell_type": "code",
   "execution_count": null,
   "metadata": {},
   "outputs": [],
   "source": [
    "x = np.array([-5, -4, -3, -2, -1, 0, 1, 2, 3, 4, 5])\n",
    "theta = np.array([-2, 0, 2])\n",
    "\n",
    "# Gráficos\n",
    "fig, ax = plt.subplots()\n",
    "\n",
    "for i in range(3):\n",
    "  \n",
    "  # Avaliando a função\n",
    "  y = fx(x=x, theta=theta[i])\n",
    "  \n",
    "  ax.plot(x, y, 'o-', label=f'$\\\\theta = {theta[i]}$')\n",
    "  ax.set(xlabel='$x$', ylabel='$f(x)$')\n",
    "\n",
    "plt.legend()\n",
    "plt.show()"
   ]
  },
  {
   "attachments": {},
   "cell_type": "markdown",
   "metadata": {},
   "source": [
    "Considere a seguinte função de dois parâmetros\n",
    "\n",
    "$$\n",
    "y = \\frac{(x - \\theta_1)^2 }{\\theta_2},\n",
    "$$\n",
    "\n",
    "cujo gráfico será apresentado a diante para algumas combinações dos parâmetros $\\theta_1$ e $\\theta_2$. Para desenhar o gráfico precisamos primeiro criar a função em Python. Note que agora temos dois parâmetros, assim"
   ]
  },
  {
   "cell_type": "code",
   "execution_count": null,
   "metadata": {},
   "outputs": [],
   "source": [
    "def fx(x, theta):\n",
    "  out = ((x - theta[0])**2)/theta[1]\n",
    "  return out"
   ]
  },
  {
   "cell_type": "code",
   "execution_count": null,
   "metadata": {},
   "outputs": [],
   "source": [
    "# Definindo os vetores\n",
    "x = np.array([-5, -4, -3, -2, -1, 0, 1, 2, 3, 4, 5])\n",
    "theta1 = np.array([-2, 0, 2])\n",
    "theta2 = np.array([1, 0.75, 0.5])\n",
    "\n",
    "# Gráficos\n",
    "fig, axs = plt.subplots(1,3, figsize=(10, 5))\n",
    "\n",
    "for col, t1 in enumerate(theta1):\n",
    "\n",
    "  for t2 in theta2:\n",
    "    y = fx(x=x, theta=[t1, t2])\n",
    "    axs[col].plot(x, y, 'o-', label=f'$\\\\theta_2 = {t2}$')\n",
    "    axs[col].set(xlabel = '$x$', ylabel='$f(x, \\\\theta)$', title=f'$\\\\theta_1 = {t1}$')\n",
    "    axs[col].legend(loc='upper center')\n",
    "    \n",
    "fig.tight_layout()\n",
    "plt.show()"
   ]
  },
  {
   "attachments": {},
   "cell_type": "markdown",
   "metadata": {},
   "source": [
    "### Funções com duas ou mais variáveis independentes\n",
    "\n",
    "Exemplo de função bidimensional (entrada vetor)."
   ]
  },
  {
   "cell_type": "code",
   "execution_count": null,
   "metadata": {},
   "outputs": [],
   "source": [
    "def fx1x2(x):\n",
    "  y = np.sqrt(25 - x[0]**2 - x[1]**2)\n",
    "  return y"
   ]
  },
  {
   "attachments": {},
   "cell_type": "markdown",
   "metadata": {},
   "source": [
    "Novamente, em Python temos"
   ]
  },
  {
   "cell_type": "code",
   "execution_count": null,
   "metadata": {},
   "outputs": [],
   "source": [
    "entrada1 = np.array([0, 0])\n",
    "entrada2 = np.array([3, 0])\n",
    "fx1x2(x=entrada1)\n",
    "fx1x2(x=entrada2)"
   ]
  },
  {
   "attachments": {},
   "cell_type": "markdown",
   "metadata": {},
   "source": [
    "Lembre-se que no caso de funções de uma única variável de entrada o Python automaticamente vetorizava a operação, ou seja, aplicava a função a cada ponto do vetor de entrada. Vejamos o que acontece caso a mesma estratégia seja usada em nossa função com duas variáveis de entrada."
   ]
  },
  {
   "cell_type": "code",
   "execution_count": null,
   "metadata": {},
   "outputs": [],
   "source": [
    "x = np.array([entrada1, entrada2])\n",
    "fx1x2(x=x)"
   ]
  },
  {
   "attachments": {},
   "cell_type": "markdown",
   "metadata": {},
   "source": [
    "Diferentemente do efeito no R, ao obter como entrada um vetor do Numpy, o Python executa a função para cada vetor e devolve um vetor com os resultados, não sendo necessário realizar a instrução <code>for</code> para avaliar a função em mais de um ponto.\n",
    "\n",
    "### Funções especiais\n",
    "\n",
    "Em Python a função exponencial está disponível por meio da função <code>exp()</code> da biblioteca Numpy. Veja alguns exemplos"
   ]
  },
  {
   "cell_type": "code",
   "execution_count": null,
   "metadata": {},
   "outputs": [],
   "source": [
    "np.exp(0)\n",
    "np.exp(1)\n",
    "np.exp(5)*np.exp(10) == np.exp(5+10)"
   ]
  },
  {
   "attachments": {},
   "cell_type": "markdown",
   "metadata": {},
   "source": [
    "### Limites e continuidade\n",
    "\n",
    "## Derivadas\n",
    "\n",
    "### Definição\n",
    "\n",
    "### Regras de derivação\n",
    "\n",
    "Podemos facilmente obter o resultado da derivada de $f(x) = 2 + 3x$ usando a biblioteca Sympy do Python."
   ]
  },
  {
   "cell_type": "code",
   "execution_count": null,
   "metadata": {},
   "outputs": [],
   "source": [
    "import sympy as sym\n",
    "\n",
    "x = sym.symbols('x')\n",
    "fx = 2 + 3*x\n",
    "sym.diff(fx)"
   ]
  },
  {
   "attachments": {},
   "cell_type": "markdown",
   "metadata": {},
   "source": [
    "Obtendo a derivada de $f(x) = \\frac{5x^3}{4x+3}$ usando o Python."
   ]
  },
  {
   "cell_type": "code",
   "execution_count": null,
   "metadata": {},
   "outputs": [],
   "source": [
    "x = sym.symbols('x')\n",
    "fx = (5*x**3)/(4*x + 3)\n",
    "sym.diff(fx)"
   ]
  },
  {
   "attachments": {},
   "cell_type": "markdown",
   "metadata": {},
   "source": [
    "### Derivadas de ordem superior\n",
    "\n",
    "### Importância da derivada\n",
    "\n",
    "Vamos ver passo-a-passo como chegamos às equações e códigos necessários para desenhar a Figura 1.15.\n",
    "\n",
    "1. Implementar a função $f(x) = -x^2$."
   ]
  },
  {
   "cell_type": "code",
   "execution_count": null,
   "metadata": {},
   "outputs": [],
   "source": [
    "def fx(x):\n",
    "  y = -x**2\n",
    "  return y"
   ]
  },
  {
   "attachments": {},
   "cell_type": "markdown",
   "metadata": {},
   "source": [
    "2. Implementar a derivada de $f(x)$, ou seja, $f^{\\prime}(x) = -2x$."
   ]
  },
  {
   "cell_type": "code",
   "execution_count": null,
   "metadata": {},
   "outputs": [],
   "source": [
    "def f_prime(x):\n",
    "  y_prime = -2*x\n",
    "  return y_prime"
   ]
  },
  {
   "attachments": {},
   "cell_type": "markdown",
   "metadata": {},
   "source": [
    "4. Implementar uma função que retorne o intercepto e a inclinação da reta tangente em um determinado ponto."
   ]
  },
  {
   "cell_type": "code",
   "execution_count": null,
   "metadata": {},
   "outputs": [],
   "source": [
    "def reta_tangente(a):\n",
    "  intercept = (fx(x=a) - f_prime(x=a)*a)\n",
    "  slope = f_prime(x=a)\n",
    "  return intercept, slope"
   ]
  },
  {
   "attachments": {},
   "cell_type": "markdown",
   "metadata": {},
   "source": [
    "Por exemplo, no ponto $a = 2$, temos"
   ]
  },
  {
   "cell_type": "code",
   "execution_count": null,
   "metadata": {},
   "outputs": [],
   "source": [
    "reta_tangente(a=2)"
   ]
  },
  {
   "attachments": {},
   "cell_type": "markdown",
   "metadata": {},
   "source": [
    "5. Desenhar o gráfico da função com a reta tangente nos pontos $a = -2$ e $a = 2$."
   ]
  },
  {
   "cell_type": "code",
   "execution_count": null,
   "metadata": {},
   "outputs": [],
   "source": [
    "x = np.linspace(-5, 5) ## Definindo o eixo x\n",
    "\n",
    "fig, ax = plt.subplots()\n",
    "\n",
    "ax.plot(x, fx(x), color='black') ## Desenhando a função\n",
    "ax.set(xlabel='$x$', ylabel='$f(x)$')\n",
    "\n",
    "## Reta tangente ao ponto a = 2\n",
    "reta1 = reta_tangente(2)\n",
    "intercept1 = reta1[0]\n",
    "slope1 = reta1[1]\n",
    "dev_values = np.linspace(0.5, 5)\n",
    "ax.plot(dev_values, intercept1 + slope1*dev_values, color='black')\n",
    "\n",
    "## Reta tangente ao ponto a = -2\n",
    "reta2 = reta_tangente(-2)\n",
    "intercept2 = reta2[0]\n",
    "slope2 = reta2[1]\n",
    "dev_values = np.linspace(-5, -0.5)\n",
    "ax.plot(dev_values, intercept2 + slope2*dev_values, color='black')\n",
    "\n",
    "## Pontos\n",
    "px = np.array([-2, 2])\n",
    "py = np.array([-4, -4])\n",
    "ax.plot(px, py, 'o', color='black')\n",
    "\n",
    "plt.show()"
   ]
  },
  {
   "attachments": {},
   "cell_type": "markdown",
   "metadata": {},
   "source": [
    "### Redução de dados\n",
    "\n",
    "Função perda quadrática."
   ]
  },
  {
   "cell_type": "code",
   "execution_count": null,
   "metadata": {},
   "outputs": [],
   "source": [
    "def SQ_mu(mu, y):\n",
    "  out = sum((y-mu)**2)\n",
    "  return out"
   ]
  },
  {
   "attachments": {},
   "cell_type": "markdown",
   "metadata": {},
   "source": [
    "Podemos avaliar a função em algum ponto de interesse, por exemplo $\\mu = 10$."
   ]
  },
  {
   "cell_type": "code",
   "execution_count": null,
   "metadata": {},
   "outputs": [],
   "source": [
    "y = np.array([8,9,14,10,10])\n",
    "SQ_mu(mu=10, y=y)"
   ]
  },
  {
   "attachments": {},
   "cell_type": "markdown",
   "metadata": {},
   "source": [
    "Por exemplo, quanto perdemos se usarmos $\\mu = 20$?"
   ]
  },
  {
   "cell_type": "code",
   "execution_count": null,
   "metadata": {},
   "outputs": [],
   "source": [
    "SQ_mu(mu=20, y=y)"
   ]
  },
  {
   "attachments": {},
   "cell_type": "markdown",
   "metadata": {},
   "source": [
    "Em Python a notação de Compreensão de Lista nos permite fazer tal operação de forma simples."
   ]
  },
  {
   "cell_type": "code",
   "execution_count": null,
   "metadata": {},
   "outputs": [],
   "source": [
    "mu_vec = np.array([10, 20])\n",
    "[SQ_mu(mu=mu, y=y) for mu in mu_vec] # Executa a função SQ_mu() para todo mu em mu_vec."
   ]
  },
  {
   "attachments": {},
   "cell_type": "markdown",
   "metadata": {},
   "source": [
    "### Derivadas parciais\n",
    "\n",
    "Exemplo de função bidimensional (entrada escalar)."
   ]
  },
  {
   "cell_type": "code",
   "execution_count": null,
   "metadata": {},
   "outputs": [],
   "source": [
    "def fx1x2(x1, x2):\n",
    "  y = 6*x1**2 - 9*x1 - 3*x1*x2 - 7*x2 + 5*x2**2\n",
    "  return y"
   ]
  },
  {
   "attachments": {},
   "cell_type": "markdown",
   "metadata": {},
   "source": [
    "Com a função implementada podemos avaliá-la em alguns pontos. Por exemplo, vamos avaliar a função nos pontos $x_1 = 2$ e $x_2 = 3$. "
   ]
  },
  {
   "cell_type": "code",
   "execution_count": null,
   "metadata": {},
   "outputs": [],
   "source": [
    "fx1x2(x1=2, x2=3)"
   ]
  },
  {
   "attachments": {},
   "cell_type": "markdown",
   "metadata": {},
   "source": [
    "Neste exemplo, vamos usar uma grade com $100^2$ pontos regularmente espaçados entre $-1$ e $3$ nas direções de $x_1$ e $x_2$. A função <code>product()</code> da biblioteca Itertools auxilia nesta tarefa."
   ]
  },
  {
   "cell_type": "code",
   "execution_count": null,
   "metadata": {},
   "outputs": [],
   "source": [
    "from itertools import product\n",
    "\n",
    "x1 = np.linspace(-1, 3, num=100)\n",
    "x2 = np.linspace(-1, 3, num=100)\n",
    "grade = [i for i in product(x1, x2)]"
   ]
  },
  {
   "attachments": {},
   "cell_type": "markdown",
   "metadata": {},
   "source": [
    "O próximo passo é avaliar a função nos pontos da grade."
   ]
  },
  {
   "cell_type": "code",
   "execution_count": null,
   "metadata": {},
   "outputs": [],
   "source": [
    "y = np.array([fx1x2(x1=x[0], x2=x[1]) for x in grade])"
   ]
  },
  {
   "attachments": {},
   "cell_type": "markdown",
   "metadata": {},
   "source": [
    "Para desenhar o gráfico vamos usar as funções <code>contourf()</code> e <code>contour()</code> da biblioteca Matplotlib."
   ]
  },
  {
   "cell_type": "code",
   "execution_count": null,
   "metadata": {},
   "outputs": [],
   "source": [
    "fig, ax = plt.subplots()\n",
    "\n",
    "# Rearranja os valores\n",
    "Z = y.reshape(100, 100)\n",
    "X, Y = np.meshgrid(x1, x2)\n",
    "\n",
    "# Desenha o gráfico\n",
    "p1 = plt.contourf(X, Y, Z, cmap=\"YlOrRd\")\n",
    "p2 = ax.contour(X, Y, Z, colors=\"black\")\n",
    "ax.clabel(p2, inline=True, fontsize=10)\n",
    "ax.set(xlabel='$x_1$', ylabel='$x_2$')\n",
    "plt.show()"
   ]
  },
  {
   "attachments": {},
   "cell_type": "markdown",
   "metadata": {},
   "source": [
    "Uma outra forma de desenhar o gráfico é usando a função <code>plot_wireframe()</code> da biblioteca Matplotlib."
   ]
  },
  {
   "cell_type": "code",
   "execution_count": null,
   "metadata": {},
   "outputs": [],
   "source": [
    "fig, ax = plt.subplots(subplot_kw={'projection': '3d'})\n",
    "ax = plt.axes(projection='3d')\n",
    "ax.plot_wireframe(X, Y, Z)\n",
    "ax.set(xlabel='$x_1$', ylabel='$x_2$', zlabel='y')\n",
    "plt.show()"
   ]
  },
  {
   "attachments": {},
   "cell_type": "markdown",
   "metadata": {},
   "source": [
    "### Gradiente e Hessiano\n",
    "\n",
    "### Séries de Taylor\n",
    "\n",
    "Para traçar o gráfico da função e da aproximação, vamos implementar funções em Python."
   ]
  },
  {
   "cell_type": "code",
   "execution_count": null,
   "metadata": {},
   "outputs": [],
   "source": [
    "def fx(x): return np.exp(x)\n",
    "def p1(x): return 1 + x\n",
    "def p2(x): return 1 + x + 0.5*x**2"
   ]
  },
  {
   "attachments": {},
   "cell_type": "markdown",
   "metadata": {},
   "source": [
    "Vamos traçar o gráfico em duas situações."
   ]
  },
  {
   "cell_type": "code",
   "execution_count": null,
   "metadata": {},
   "outputs": [],
   "source": [
    "fig, axs = plt.subplots(1,2, figsize=(8, 5))\n",
    "\n",
    "x = np.linspace(-1, 1, num=1000)\n",
    "axs[0].plot(x, fx(x), color='black')\n",
    "axs[0].plot(x, p1(x), \"--\", color='black')\n",
    "axs[0].plot(x, p2(x), \"-.\", color='black')\n",
    "axs[0].set(xlabel='$x$', ylabel='$f(x)$', title='(A)', ylim=[0, 2.8])\n",
    "\n",
    "x = np.linspace(-3, 3, num=1000)\n",
    "axs[1].plot(x, fx(x), color='black')\n",
    "axs[1].plot(x, p1(x), \"--\", color='black')\n",
    "axs[1].plot(x, p2(x), \"-.\", color='black')\n",
    "axs[1].set(xlabel='$x$', ylabel='$f(x)$', title='(B)', ylim=[-5, 20])\n",
    "\n",
    "fig.tight_layout()\n",
    "plt.show()"
   ]
  }
 ],
 "metadata": {
  "language_info": {
   "name": "python"
  },
  "orig_nbformat": 4
 },
 "nbformat": 4,
 "nbformat_minor": 2
}
