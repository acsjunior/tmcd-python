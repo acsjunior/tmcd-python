{
 "cells": [
  {
   "attachments": {},
   "cell_type": "markdown",
   "metadata": {},
   "source": [
    "# Prefácio\n",
    "\n",
    "Lorem ipsum dolor sit amet, consectetur adipiscing elit. Nulla volutpat, lorem sed tincidunt euismod, quam odio hendrerit elit, at ultrices neque ante vel velit. Sed at justo eget mauris ornare porttitor a eget magna. Quisque ipsum justo, volutpat non rutrum a, euismod at nisl. Sed sit amet sollicitudin mi, in egestas nunc. Fusce blandit tellus vitae felis vulputate, quis pretium nunc facilisis. Nullam rhoncus, neque ut luctus venenatis, nisl lectus commodo odio, sed lacinia purus quam at arcu. Suspendisse potenti. Aenean rhoncus ante eu mi faucibus, non dictum metus ornare.\n",
    "\n",
    "Class aptent taciti sociosqu ad litora torquent per conubia nostra, per inceptos himenaeos. Integer tristique nulla nec arcu bibendum congue. Fusce dolor mi, condimentum ac condimentum vitae, mollis id tortor. Mauris efficitur neque sit amet imperdiet commodo. Quisque efficitur tellus mollis sem volutpat, vel tincidunt quam hendrerit. Etiam quis consectetur ante. Interdum et malesuada fames ac ante ipsum primis in faucibus. Suspendisse magna risus, convallis a venenatis et, tristique in mi. Maecenas nec ex tempor, sodales neque consectetur, condimentum urna. Phasellus rhoncus, mi sit amet auctor aliquet, enim quam sodales nisl, aliquet aliquam dolor magna nec urna. Sed consectetur vulputate eros et semper. Ut dictum eleifend dictum.\n",
    "\n",
    "```{tableofcontents}\n",
    "```"
   ]
  }
 ],
 "metadata": {
  "language_info": {
   "name": "python"
  },
  "orig_nbformat": 4
 },
 "nbformat": 4,
 "nbformat_minor": 2
}
