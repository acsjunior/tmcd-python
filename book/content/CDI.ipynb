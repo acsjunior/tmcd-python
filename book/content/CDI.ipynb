{
 "cells": [
  {
   "attachments": {},
   "cell_type": "markdown",
   "metadata": {},
   "source": [
    "# Cálculo Diferencial e Integral\n",
    "\n",
    "## Funções, limites e continuidade\n",
    "\n",
    "Estrutura de função em Python."
   ]
  },
  {
   "cell_type": "code",
   "execution_count": null,
   "metadata": {},
   "outputs": [],
   "source": [
    "def minha_funcao(x):\n",
    "  y = 'algum processamento com x'\n",
    "  return y"
   ]
  },
  {
   "attachments": {},
   "cell_type": "markdown",
   "metadata": {},
   "source": [
    "Para materializar esta ideia definimos a função $y = x^2$, ou seja, para cada entrada de $x$ retornamos $y$ que é o quadrado da entrada. Em Python temos a seguinte função"
   ]
  },
  {
   "cell_type": "code",
   "execution_count": null,
   "metadata": {},
   "outputs": [],
   "source": [
    "def minha_funcao(x):\n",
    "  y = x**2\n",
    "  return y"
   ]
  },
  {
   "attachments": {},
   "cell_type": "markdown",
   "metadata": {},
   "source": [
    "Usando nossa função Python temos"
   ]
  },
  {
   "cell_type": "code",
   "execution_count": null,
   "metadata": {},
   "outputs": [],
   "source": [
    "minha_funcao(x=2)"
   ]
  },
  {
   "attachments": {},
   "cell_type": "markdown",
   "metadata": {},
   "source": [
    "Para definir um vetor de números em Python usamos a função <code>array()</code> da biblioteca Numpy. Veja o seguinte exemplo,"
   ]
  },
  {
   "cell_type": "code",
   "execution_count": null,
   "metadata": {},
   "outputs": [],
   "source": [
    "import numpy as np\n",
    "\n",
    "x_vec = np.array([-3, -2, -1, 0, 1, 2, 3])\n",
    "minha_funcao(x=x_vec)"
   ]
  },
  {
   "attachments": {},
   "cell_type": "markdown",
   "metadata": {},
   "source": [
    "Neste ponto é interessante falar sobre alguns tipos de variáveis em Python. Em termos de números temos basicamente os inteiros (int) e os de ponto flutuante (float). Para verificar o tipo de uma variável em usamos a função type(). Por exemplo,"
   ]
  },
  {
   "cell_type": "code",
   "execution_count": null,
   "metadata": {},
   "outputs": [],
   "source": [
    "x = 1811.0\n",
    "type(x)"
   ]
  },
  {
   "cell_type": "code",
   "execution_count": null,
   "metadata": {},
   "outputs": [],
   "source": [
    "x = 1811\n",
    "type(x)"
   ]
  },
  {
   "attachments": {},
   "cell_type": "markdown",
   "metadata": {},
   "source": [
    "Outra questão importante é o tipo do objeto de saída."
   ]
  },
  {
   "cell_type": "code",
   "execution_count": null,
   "metadata": {},
   "outputs": [],
   "source": [
    "## Entrada inteiro\n",
    "y = minha_funcao(x=2)\n",
    "type(y)"
   ]
  },
  {
   "cell_type": "code",
   "execution_count": null,
   "metadata": {},
   "outputs": [],
   "source": [
    "## Entrada float\n",
    "y <- minha_funcao(x=2.0)\n",
    "type(y)"
   ]
  },
  {
   "attachments": {},
   "cell_type": "markdown",
   "metadata": {},
   "source": [
    "Quando colocados juntos em um vetor valores integer e float, o integer será convertido para float e o valor gerado será do tipo float."
   ]
  },
  {
   "cell_type": "code",
   "execution_count": null,
   "metadata": {},
   "outputs": [],
   "source": [
    "x_vec = np.array([2,  2.0])\n",
    "x_vec.dtype"
   ]
  },
  {
   "cell_type": "code",
   "execution_count": null,
   "metadata": {},
   "outputs": [],
   "source": [
    "type(x_vec)"
   ]
  },
  {
   "attachments": {},
   "cell_type": "markdown",
   "metadata": {},
   "source": [
    "Em Python a função <code>plot()</code> da biblioteca Matplotlib é uma das formas mais simples de desenhar o gráfico de uma função. O código abaixo ilustra como desenhar o gráfico da função $y = x^2$ avaliada nos inteiros entre $-5$ e $5$."
   ]
  },
  {
   "cell_type": "code",
   "execution_count": null,
   "metadata": {},
   "outputs": [],
   "source": [
    "import numpy as np\n",
    "import matplotlib.pyplot as plt\n",
    "\n",
    "## Criando a função\n",
    "def minha_funcao(x):\n",
    "  y = x**2\n",
    "  return y\n",
    "\n",
    "## Valores que a função será avaliada\n",
    "x_vec = np.array([-5, -4, -3, -2, -1, 0, 1, 2, 3, 4, 5])\n",
    "\n",
    "## Avaliando a função em cada ponto\n",
    "y = minha_funcao(x=x_vec)\n",
    "\n",
    "## Gráfico da função\n",
    "fig, ax = plt.subplots()\n",
    "ax.plot(x_vec, y, 'o')\n",
    "ax.set(xlabel='$x$', ylabel='$f(x)$')\n",
    "plt.show()"
   ]
  },
  {
   "attachments": {},
   "cell_type": "markdown",
   "metadata": {},
   "source": [
    "É comum desenhar o gráfico da função unindo os pontos para dar a noção de continuidade (conceito a ser explicado adiante)."
   ]
  },
  {
   "cell_type": "code",
   "execution_count": null,
   "metadata": {},
   "outputs": [],
   "source": [
    "fig, ax = plt.subplots()\n",
    "ax.plot(x_vec, y)\n",
    "ax.set(xlabel='$x$', ylabel='$f(x)$')\n",
    "plt.show()"
   ]
  },
  {
   "attachments": {},
   "cell_type": "markdown",
   "metadata": {},
   "source": [
    "Considere a seguinte função parametrizada $y = (x - \\theta)^2$ cuja versão em Python é dada abaixo."
   ]
  },
  {
   "cell_type": "code",
   "execution_count": null,
   "metadata": {},
   "outputs": [],
   "source": [
    "def fx(x, theta):\n",
    "  out = (x - theta)**2\n",
    "  return out"
   ]
  },
  {
   "attachments": {},
   "cell_type": "markdown",
   "metadata": {},
   "source": [
    "A Figura abaixo mostra o gráfico da função $y = (x - \\theta)^2$ avaliada nos pontos $x = (-5, -4, -3, -2, -1, 0, 1, 2, 3, 4, 5)$ e $\\theta = (-2, 0, 2)$."
   ]
  },
  {
   "cell_type": "code",
   "execution_count": null,
   "metadata": {},
   "outputs": [],
   "source": [
    "x = np.array([-5, -4, -3, -2, -1, 0, 1, 2, 3, 4, 5])\n",
    "theta = np.array([-2, 0, 2])\n",
    "\n",
    "# Gráficos\n",
    "fig, ax = plt.subplots()\n",
    "\n",
    "for i in range(3):\n",
    "  \n",
    "  # Avaliando a função\n",
    "  y = fx(x=x, theta=theta[i])\n",
    "  \n",
    "  ax.plot(x, y, 'o-', label=f'$\\\\theta = {theta[i]}$')\n",
    "  ax.set(xlabel='$x$', ylabel='$f(x)$')\n",
    "\n",
    "plt.legend()\n",
    "plt.show()"
   ]
  },
  {
   "attachments": {},
   "cell_type": "markdown",
   "metadata": {},
   "source": [
    "Considere a seguinte função de dois parâmetros\n",
    "\n",
    "$$\n",
    "y = \\frac{(x - \\theta_1)^2 }{\\theta_2},\n",
    "$$\n",
    "\n",
    "cujo gráfico será apresentado a diante para algumas combinações dos parâmetros $\\theta_1$ e $\\theta_2$. Para desenhar o gráfico precisamos primeiro criar a função em Python. Note que agora temos dois parâmetros, assim"
   ]
  },
  {
   "cell_type": "code",
   "execution_count": null,
   "metadata": {},
   "outputs": [],
   "source": [
    "def fx(x, theta):\n",
    "  out = ((x - theta[0])**2)/theta[1]\n",
    "  return out"
   ]
  },
  {
   "cell_type": "code",
   "execution_count": null,
   "metadata": {},
   "outputs": [],
   "source": [
    "# Definindo os vetores\n",
    "x = np.array([-5, -4, -3, -2, -1, 0, 1, 2, 3, 4, 5])\n",
    "theta1 = np.array([-2, 0, 2])\n",
    "theta2 = np.array([1, 0.75, 0.5])\n",
    "\n",
    "# Gráficos\n",
    "fig, axs = plt.subplots(1,3, figsize=(10, 5))\n",
    "\n",
    "for col, t1 in enumerate(theta1):\n",
    "\n",
    "  for t2 in theta2:\n",
    "    y = fx(x=x, theta=[t1, t2])\n",
    "    axs[col].plot(x, y, 'o-', label=f'$\\\\theta_2 = {t2}$')\n",
    "    axs[col].set(xlabel = '$x$', ylabel='$f(x, \\\\theta)$', title=f'$\\\\theta_1 = {t1}$')\n",
    "    axs[col].legend(loc='upper center')\n",
    "    \n",
    "fig.tight_layout()\n",
    "plt.show()"
   ]
  }
 ],
 "metadata": {
  "language_info": {
   "name": "python"
  },
  "orig_nbformat": 4
 },
 "nbformat": 4,
 "nbformat_minor": 2
}
